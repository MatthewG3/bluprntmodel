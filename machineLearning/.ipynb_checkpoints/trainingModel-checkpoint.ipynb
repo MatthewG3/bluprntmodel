{
 "cells": [
  {
   "cell_type": "code",
   "execution_count": 41,
   "metadata": {},
   "outputs": [],
   "source": [
    "# imports needed\n",
    "import tensorflow as tf\n",
    "from tensorflow import keras\n",
    "from keras.models import Sequential\n",
    "from keras.layers import Dense, Flatten, Conv2D, MaxPooling2D, Dropout\n",
    "from tensorflow.keras import layers\n",
    "from tensorflow.keras.utils import to_categorical\n",
    "import numpy as np\n",
    "import matplotlib.pyplot as plt\n",
    "from keras.preprocessing import image"
   ]
  },
  {
   "cell_type": "code",
   "execution_count": 42,
   "metadata": {},
   "outputs": [],
   "source": [
    "# create the image classification\n",
    "\n",
    "classification = ['Heart', 'Oblong', 'Oval', 'Round', 'Square']"
   ]
  },
  {
   "cell_type": "code",
   "execution_count": 60,
   "metadata": {},
   "outputs": [],
   "source": [
    "# load the data\n",
    "\n",
    "# training data\n",
    "\n",
    "x_train_list = []\n",
    "y_train_list = []\n",
    "\n",
    "for i in range(1000):\n",
    "    # for heart shape\n",
    "    try:\n",
    "        tempImage = image.load_img('FaceShape Dataset/training_set/Heart/heart (' + str(i+1) +').jpg', target_size=(64, 64))\n",
    "        data = image.img_to_array(tempImage, dtype=int)\n",
    "        x_train_list.append(data)\n",
    "        y_train_list.append(0)\n",
    "    except:\n",
    "        continue\n",
    "    \n",
    "    # for oblong shape\n",
    "    try:\n",
    "        tempImage = image.load_img('FaceShape Dataset/training_set/Oblong/oblong (' + str(i+1) +').jpg', target_size=(64, 64))\n",
    "        data = image.img_to_array(tempImage, dtype=int)\n",
    "        x_train_list.append(data)\n",
    "        y_train_list.append(1)\n",
    "    except:\n",
    "        continue\n",
    "    \n",
    "    # for oval shape\n",
    "    try:\n",
    "        tempImage = image.load_img('FaceShape Dataset/training_set/Oval/oval (' + str(i+1) +').jpg', target_size=(64, 64))\n",
    "        data = image.img_to_array(tempImage, dtype=int)\n",
    "        x_train_list.append(data)\n",
    "        y_train_list.append(2)\n",
    "    except:\n",
    "        continue\n",
    "        \n",
    "    # for round shape\n",
    "    try:\n",
    "        tempImage = image.load_img('FaceShape Dataset/training_set/Round/round (' + str(i+1) +').jpg', target_size=(64, 64))\n",
    "        data = image.img_to_array(tempImage, dtype=int)\n",
    "        x_train_list.append(data)\n",
    "        y_train_list.append(3)\n",
    "    except:\n",
    "        continue\n",
    "        \n",
    "    # for square shape\n",
    "    try:\n",
    "        tempImage = image.load_img('FaceShape Dataset/training_set/Square/square (' + str(i+1) +').jpg', target_size=(64, 64))\n",
    "        data = image.img_to_array(tempImage, dtype=int)\n",
    "        x_train_list.append(data)\n",
    "        y_train_list.append(4)\n",
    "    except:\n",
    "        continue \n",
    "        \n",
    "        \n",
    "x_train = np.array(x_train_list)\n",
    "y_train = np.array(y_train_list)"
   ]
  },
  {
   "cell_type": "code",
   "execution_count": 61,
   "metadata": {},
   "outputs": [],
   "source": [
    "# load the data\n",
    "\n",
    "# test data\n",
    "\n",
    "x_test_list = []\n",
    "y_test_list = []\n",
    "\n",
    "for i in range(1000):\n",
    "    # for heart shape\n",
    "    try:\n",
    "        tempImage = image.load_img('FaceShape Dataset/testing_set/Heart/heart (' + str(i+1) +').jpg', target_size=(64, 64))\n",
    "        data = image.img_to_array(tempImage, dtype=int)\n",
    "        x_test_list.append(data)\n",
    "        y_test_list.append(0)\n",
    "    except:\n",
    "        continue\n",
    "    \n",
    "    # for oblong shape\n",
    "    try:\n",
    "        tempImage = image.load_img('FaceShape Dataset/testing_set/Oblong/oblong (' + str(i+1) +').jpg', target_size=(64, 64))\n",
    "        data = image.img_to_array(tempImage, dtype=int)\n",
    "        x_test_list.append(data)\n",
    "        y_test_list.append(1)\n",
    "    except:\n",
    "        continue\n",
    "    \n",
    "    # for oval shape\n",
    "    try:\n",
    "        tempImage = image.load_img('FaceShape Dataset/testing_set/Oval/oval (' + str(i+1) +').jpg', target_size=(64, 64))\n",
    "        data = image.img_to_array(tempImage, dtype=int)\n",
    "        x_test_list.append(data)\n",
    "        y_test_list.append(2)\n",
    "    except:\n",
    "        continue\n",
    "        \n",
    "    # for round shape\n",
    "    try:\n",
    "        tempImage = image.load_img('FaceShape Dataset/testing_set/Round/round (' + str(i+1) +').jpg', target_size=(64, 64))\n",
    "        data = image.img_to_array(tempImage, dtype=int)\n",
    "        x_test_list.append(data)\n",
    "        y_test_list.append(3)\n",
    "    except:\n",
    "        continue\n",
    "        \n",
    "    # for square shape\n",
    "    try:\n",
    "        tempImage = image.load_img('FaceShape Dataset/testing_set/Square/square (' + str(i+1) +').jpg', target_size=(64, 64))\n",
    "        data = image.img_to_array(tempImage, dtype=int)\n",
    "        x_test_list.append(data)\n",
    "        y_test_list.append(4)\n",
    "    except:\n",
    "        continue \n",
    "        \n",
    "        \n",
    "x_test = np.array(x_test_list)\n",
    "y_test = np.array(y_test_list)"
   ]
  },
  {
   "cell_type": "code",
   "execution_count": 62,
   "metadata": {},
   "outputs": [],
   "source": [
    "# convert lables into a set of 5 numbers to input into the neural network\n",
    "y_train_one_hot = to_categorical(y_train)\n",
    "y_test_one_hot = to_categorical(y_test)"
   ]
  },
  {
   "cell_type": "code",
   "execution_count": 63,
   "metadata": {},
   "outputs": [],
   "source": [
    "# normalize the pixels to be values between 0 and 1\n",
    "x_train = x_train / 255\n",
    "x_test = x_test / 255"
   ]
  },
  {
   "cell_type": "code",
   "execution_count": 64,
   "metadata": {},
   "outputs": [],
   "source": [
    "# create the models architecture\n",
    "model = Sequential()\n",
    "\n",
    "# add the first convolution layer\n",
    "model.add(Conv2D(32, (5, 5), activation='relu', input_shape=(64, 64, 3)))\n",
    "\n",
    "# add a pooling layer\n",
    "model.add(MaxPooling2D(pool_size=(2, 2)))\n",
    "\n",
    "# add a second convolution layer\n",
    "model.add(Conv2D(32, (5, 5), activation='relu'))\n",
    "\n",
    "# add another pooling layer\n",
    "model.add(MaxPooling2D(pool_size=(2, 2)))\n",
    "\n",
    "# add a second convolution layer\n",
    "model.add(Conv2D(32, (5, 5), activation='relu'))\n",
    "\n",
    "# add another pooling layer\n",
    "model.add(MaxPooling2D(pool_size=(2, 2)))\n",
    "\n",
    "# add a flattening layer\n",
    "model.add(Flatten())\n",
    "\n",
    "# add a layer with 2000 neurons\n",
    "model.add(Dense(2000, activation='relu'))\n",
    "\n",
    "# add a drop out layer (with 50% drop out rate)\n",
    "model.add(Dropout(0.5))\n",
    "\n",
    "# add a layer with 1000 neurons\n",
    "model.add(Dense(1000, activation='relu'))\n",
    "\n",
    "# add a drop out layer (with 50% drop out rate)\n",
    "model.add(Dropout(0.5))\n",
    "\n",
    "# add a layer with 500 neurons\n",
    "model.add(Dense(500, activation='relu'))\n",
    "\n",
    "# add a drop out layer (with 50% drop out rate)\n",
    "model.add(Dropout(0.5))\n",
    "\n",
    "# add a layer with 250 neurons\n",
    "model.add(Dense(250, activation='relu'))\n",
    "\n",
    "# add a layer with 5 neurons\n",
    "model.add(Dense(5, activation='softmax'))"
   ]
  },
  {
   "cell_type": "code",
   "execution_count": 65,
   "metadata": {},
   "outputs": [],
   "source": [
    "# complie the model\n",
    "model.compile(loss = 'categorical_crossentropy',\n",
    "             optimizer = 'adam',\n",
    "             metrics = ['accuracy'])"
   ]
  },
  {
   "cell_type": "code",
   "execution_count": 74,
   "metadata": {},
   "outputs": [
    {
     "name": "stdout",
     "output_type": "stream",
     "text": [
      "Epoch 1/10\n",
      "9/9 [==============================] - 7s 793ms/step - loss: 0.0354 - accuracy: 0.9903 - val_loss: 4.5103 - val_accuracy: 0.3641\n",
      "Epoch 2/10\n",
      "9/9 [==============================] - 7s 767ms/step - loss: 0.0328 - accuracy: 0.9903 - val_loss: 4.7401 - val_accuracy: 0.3457\n",
      "Epoch 3/10\n",
      "9/9 [==============================] - 7s 760ms/step - loss: 0.0332 - accuracy: 0.9889 - val_loss: 4.5505 - val_accuracy: 0.3494\n",
      "Epoch 4/10\n",
      "9/9 [==============================] - 7s 781ms/step - loss: 0.0236 - accuracy: 0.9926 - val_loss: 4.8279 - val_accuracy: 0.3401\n",
      "Epoch 5/10\n",
      "9/9 [==============================] - 8s 842ms/step - loss: 0.0281 - accuracy: 0.9908 - val_loss: 5.3446 - val_accuracy: 0.3567\n",
      "Epoch 6/10\n",
      "9/9 [==============================] - 7s 805ms/step - loss: 0.0442 - accuracy: 0.9894 - val_loss: 4.8200 - val_accuracy: 0.3457\n",
      "Epoch 7/10\n",
      "9/9 [==============================] - 8s 840ms/step - loss: 0.0367 - accuracy: 0.9866 - val_loss: 4.8720 - val_accuracy: 0.3457\n",
      "Epoch 8/10\n",
      "9/9 [==============================] - 7s 814ms/step - loss: 0.0458 - accuracy: 0.9848 - val_loss: 4.3918 - val_accuracy: 0.3512\n",
      "Epoch 9/10\n",
      "9/9 [==============================] - 7s 822ms/step - loss: 0.0321 - accuracy: 0.9908 - val_loss: 4.7416 - val_accuracy: 0.3235\n",
      "Epoch 10/10\n",
      "9/9 [==============================] - 7s 799ms/step - loss: 0.0392 - accuracy: 0.9908 - val_loss: 4.7633 - val_accuracy: 0.3272\n"
     ]
    }
   ],
   "source": [
    "# train the model\n",
    "hist = model.fit(x_train, y_train_one_hot,\n",
    "                 batch_size = 256,\n",
    "                 epochs = 10,\n",
    "                 validation_split = 0.2)"
   ]
  },
  {
   "cell_type": "code",
   "execution_count": 77,
   "metadata": {},
   "outputs": [
    {
     "name": "stdout",
     "output_type": "stream",
     "text": [
      "8/8 [==============================] - 0s 31ms/step - loss: 4.2683 - accuracy: 0.4350\n"
     ]
    },
    {
     "data": {
      "text/plain": [
       "0.434959352016449"
      ]
     },
     "execution_count": 77,
     "metadata": {},
     "output_type": "execute_result"
    }
   ],
   "source": [
    "# evaluate the model using the test data set\n",
    "model.evaluate(x_test, y_test_one_hot)[1]"
   ]
  },
  {
   "cell_type": "code",
   "execution_count": 78,
   "metadata": {},
   "outputs": [
    {
     "data": {
      "image/png": "[encoded data removed]",
      "text/plain": [
       "<Figure size 432x288 with 1 Axes>"
      ]
     },
     "metadata": {
      "needs_background": "light"
     },
     "output_type": "display_data"
    }
   ],
   "source": [
    "# visualize the models accuracy\n",
    "plt.plot(hist.history['accuracy'])\n",
    "plt.plot(hist.history['val_accuracy'])\n",
    "plt.title('Model accuracy')\n",
    "plt.ylabel('Accuracy')\n",
    "plt.xlabel('Epoch')\n",
    "plt.legend(['train', 'Val'], loc='upper left')\n",
    "plt.show()"
   ]
  },
  {
   "cell_type": "code",
   "execution_count": 79,
   "metadata": {},
   "outputs": [
    {
     "data": {
      "image/png": "[encoded data removed]",
      "text/plain": [
       "<Figure size 432x288 with 1 Axes>"
      ]
     },
     "metadata": {
      "needs_background": "light"
     },
     "output_type": "display_data"
    }
   ],
   "source": [
    "# visualize the models loss\n",
    "plt.plot(hist.history['loss'])\n",
    "plt.plot(hist.history['val_loss'])\n",
    "plt.title('Model loss')\n",
    "plt.ylabel('loss')\n",
    "plt.xlabel('Epoch')\n",
    "plt.legend(['train', 'Val'], loc='upper right')\n",
    "plt.show()"
   ]
  },
  {
   "cell_type": "code",
   "execution_count": 36,
   "metadata": {},
   "outputs": [],
   "source": [
    "# use joblib to export model\n",
    "\n",
    "model.save('mlmodel.h5')"
   ]
  },
  {
   "cell_type": "code",
   "execution_count": null,
   "metadata": {},
   "outputs": [],
   "source": []
  }
 ],
 "metadata": {
  "kernelspec": {
   "display_name": "Python 3",
   "language": "python",
   "name": "python3"
  },
  "language_info": {
   "codemirror_mode": {
    "name": "ipython",
    "version": 3
   },
   "file_extension": ".py",
   "mimetype": "text/x-python",
   "name": "python",
   "nbconvert_exporter": "python",
   "pygments_lexer": "ipython3",
   "version": "3.8.3"
  }
 },
 "nbformat": 4,
 "nbformat_minor": 4
}
