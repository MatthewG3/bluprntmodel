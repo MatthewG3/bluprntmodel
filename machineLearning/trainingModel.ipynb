{
 "cells": [
  {
   "cell_type": "code",
   "execution_count": 41,
   "metadata": {},
   "outputs": [],
   "source": [
    "# imports needed\n",
    "import tensorflow as tf\n",
    "from tensorflow import keras\n",
    "from keras.models import Sequential\n",
    "from keras.layers import Dense, Flatten, Conv2D, MaxPooling2D, Dropout\n",
    "from tensorflow.keras import layers\n",
    "from tensorflow.keras.utils import to_categorical\n",
    "import numpy as np\n",
    "import matplotlib.pyplot as plt\n",
    "from keras.preprocessing import image"
   ]
  },
  {
   "cell_type": "code",
   "execution_count": 42,
   "metadata": {},
   "outputs": [],
   "source": [
    "# create the image classification\n",
    "\n",
    "classification = ['Heart', 'Oblong', 'Oval', 'Round', 'Square']"
   ]
  },
  {
   "cell_type": "code",
   "execution_count": 94,
   "metadata": {},
   "outputs": [],
   "source": [
    "# load the data\n",
    "\n",
    "# training data\n",
    "\n",
    "x_train_list = []\n",
    "y_train_list = []\n",
    "\n",
    "for i in range(1000):\n",
    "    # for heart shape\n",
    "    try:\n",
    "        tempImage = image.load_img('FaceShape Dataset/training_set/Heart/heart (' + str(i+1) +').jpg', target_size=(128, 128))\n",
    "        data = image.img_to_array(tempImage, dtype=int)\n",
    "        x_train_list.append(data)\n",
    "        y_train_list.append(0)\n",
    "    except:\n",
    "        continue\n",
    "    \n",
    "    # for oblong shape\n",
    "    try:\n",
    "        tempImage = image.load_img('FaceShape Dataset/training_set/Oblong/oblong (' + str(i+1) +').jpg', target_size=(128, 128))\n",
    "        data = image.img_to_array(tempImage, dtype=int)\n",
    "        x_train_list.append(data)\n",
    "        y_train_list.append(1)\n",
    "    except:\n",
    "        continue\n",
    "    \n",
    "    # for oval shape\n",
    "    try:\n",
    "        tempImage = image.load_img('FaceShape Dataset/training_set/Oval/oval (' + str(i+1) +').jpg', target_size=(128, 128))\n",
    "        data = image.img_to_array(tempImage, dtype=int)\n",
    "        x_train_list.append(data)\n",
    "        y_train_list.append(2)\n",
    "    except:\n",
    "        continue\n",
    "        \n",
    "    # for round shape\n",
    "    try:\n",
    "        tempImage = image.load_img('FaceShape Dataset/training_set/Round/round (' + str(i+1) +').jpg', target_size=(128, 128))\n",
    "        data = image.img_to_array(tempImage, dtype=int)\n",
    "        x_train_list.append(data)\n",
    "        y_train_list.append(3)\n",
    "    except:\n",
    "        continue\n",
    "        \n",
    "    # for square shape\n",
    "    try:\n",
    "        tempImage = image.load_img('FaceShape Dataset/training_set/Square/square (' + str(i+1) +').jpg', target_size=(128, 128))\n",
    "        data = image.img_to_array(tempImage, dtype=int)\n",
    "        x_train_list.append(data)\n",
    "        y_train_list.append(4)\n",
    "    except:\n",
    "        continue \n",
    "        \n",
    "        \n",
    "x_train = np.array(x_train_list)\n",
    "y_train = np.array(y_train_list)"
   ]
  },
  {
   "cell_type": "code",
   "execution_count": 95,
   "metadata": {},
   "outputs": [],
   "source": [
    "# load the data\n",
    "\n",
    "# test data\n",
    "\n",
    "x_test_list = []\n",
    "y_test_list = []\n",
    "\n",
    "for i in range(1000):\n",
    "    # for heart shape\n",
    "    try:\n",
    "        tempImage = image.load_img('FaceShape Dataset/testing_set/Heart/heart (' + str(i+1) +').jpg', target_size=(128, 128))\n",
    "        data = image.img_to_array(tempImage, dtype=int)\n",
    "        x_test_list.append(data)\n",
    "        y_test_list.append(0)\n",
    "    except:\n",
    "        continue\n",
    "    \n",
    "    # for oblong shape\n",
    "    try:\n",
    "        tempImage = image.load_img('FaceShape Dataset/testing_set/Oblong/oblong (' + str(i+1) +').jpg', target_size=(128, 128))\n",
    "        data = image.img_to_array(tempImage, dtype=int)\n",
    "        x_test_list.append(data)\n",
    "        y_test_list.append(1)\n",
    "    except:\n",
    "        continue\n",
    "    \n",
    "    # for oval shape\n",
    "    try:\n",
    "        tempImage = image.load_img('FaceShape Dataset/testing_set/Oval/oval (' + str(i+1) +').jpg', target_size=(128, 128))\n",
    "        data = image.img_to_array(tempImage, dtype=int)\n",
    "        x_test_list.append(data)\n",
    "        y_test_list.append(2)\n",
    "    except:\n",
    "        continue\n",
    "        \n",
    "    # for round shape\n",
    "    try:\n",
    "        tempImage = image.load_img('FaceShape Dataset/testing_set/Round/round (' + str(i+1) +').jpg', target_size=(128, 128))\n",
    "        data = image.img_to_array(tempImage, dtype=int)\n",
    "        x_test_list.append(data)\n",
    "        y_test_list.append(3)\n",
    "    except:\n",
    "        continue\n",
    "        \n",
    "    # for square shape\n",
    "    try:\n",
    "        tempImage = image.load_img('FaceShape Dataset/testing_set/Square/square (' + str(i+1) +').jpg', target_size=(128, 128))\n",
    "        data = image.img_to_array(tempImage, dtype=int)\n",
    "        x_test_list.append(data)\n",
    "        y_test_list.append(4)\n",
    "    except:\n",
    "        continue \n",
    "        \n",
    "        \n",
    "x_test = np.array(x_test_list)\n",
    "y_test = np.array(y_test_list)"
   ]
  },
  {
   "cell_type": "code",
   "execution_count": 153,
   "metadata": {},
   "outputs": [],
   "source": [
    "# convert lables into a set of 5 numbers to input into the neural network\n",
    "y_train_one_hot = to_categorical(y_train)\n",
    "y_test_one_hot = to_categorical(y_test)"
   ]
  },
  {
   "cell_type": "code",
   "execution_count": null,
   "metadata": {},
   "outputs": [],
   "source": []
  },
  {
   "cell_type": "code",
   "execution_count": 97,
   "metadata": {},
   "outputs": [],
   "source": [
    "# normalize the pixels to be values between 0 and 1\n",
    "x_train = x_train / 255\n",
    "x_test = x_test / 255"
   ]
  },
  {
   "cell_type": "code",
   "execution_count": 163,
   "metadata": {},
   "outputs": [],
   "source": [
    "# create the models architecture\n",
    "model = Sequential()\n",
    "\n",
    "# add the first convolution layer\n",
    "model.add(Conv2D(32, (5, 5), activation='relu', input_shape=(128, 128, 3)))\n",
    "\n",
    "# add a pooling layer\n",
    "model.add(MaxPooling2D(pool_size=(2, 2)))\n",
    "\n",
    "# add a second convolution layer\n",
    "model.add(Conv2D(32, (5, 5), activation='relu'))\n",
    "\n",
    "# add another pooling layer\n",
    "model.add(MaxPooling2D(pool_size=(2, 2)))\n",
    "\n",
    "# add a second convolution layer\n",
    "model.add(Conv2D(32, (5, 5), activation='relu'))\n",
    "\n",
    "# add another pooling layer\n",
    "model.add(MaxPooling2D(pool_size=(2, 2)))\n",
    "\n",
    "# add a second convolution layer\n",
    "model.add(Conv2D(32, (5, 5), activation='relu'))\n",
    "\n",
    "# add another pooling layer\n",
    "model.add(MaxPooling2D(pool_size=(2, 2)))\n",
    "\n",
    "# add a flattening layer\n",
    "model.add(Flatten())\n",
    "\n",
    "# add a layer with 2000 neurons\n",
    "model.add(Dense(2000, activation='relu'))\n",
    "\n",
    "# add a drop out layer (with 50% drop out rate)\n",
    "model.add(Dropout(0.5))\n",
    "\n",
    "# add a layer with 1000 neurons\n",
    "model.add(Dense(1000, activation='relu'))\n",
    "\n",
    "# add a drop out layer (with 50% drop out rate)\n",
    "model.add(Dropout(0.5))\n",
    "\n",
    "# add a layer with 500 neurons\n",
    "model.add(Dense(500, activation='relu'))\n",
    "\n",
    "# add a drop out layer (with 50% drop out rate)\n",
    "model.add(Dropout(0.5))\n",
    "\n",
    "# add a layer with 250 neurons\n",
    "model.add(Dense(250, activation='relu'))\n",
    "\n",
    "# add a layer with 5 neurons\n",
    "model.add(Dense(5, activation='softmax'))"
   ]
  },
  {
   "cell_type": "code",
   "execution_count": 164,
   "metadata": {},
   "outputs": [],
   "source": [
    "# complie the model\n",
    "model.compile(loss = 'categorical_crossentropy',\n",
    "             optimizer = 'adam',\n",
    "             metrics = ['accuracy'])"
   ]
  },
  {
   "cell_type": "code",
   "execution_count": 165,
   "metadata": {},
   "outputs": [
    {
     "name": "stdout",
     "output_type": "stream",
     "text": [
      "Epoch 1/8\n",
      "9/9 [==============================] - 27s 3s/step - loss: 1.5765 - accuracy: 0.2620 - val_loss: 1.5754 - val_accuracy: 0.2089\n",
      "Epoch 2/8\n",
      "9/9 [==============================] - 30s 3s/step - loss: 1.5671 - accuracy: 0.2907 - val_loss: 1.6025 - val_accuracy: 0.2939\n",
      "Epoch 3/8\n",
      "9/9 [==============================] - 30s 3s/step - loss: 1.5691 - accuracy: 0.2957 - val_loss: 1.5705 - val_accuracy: 0.2939\n",
      "Epoch 4/8\n",
      "9/9 [==============================] - 31s 3s/step - loss: 1.5678 - accuracy: 0.2916 - val_loss: 1.5711 - val_accuracy: 0.2939\n",
      "Epoch 5/8\n",
      "9/9 [==============================] - 30s 3s/step - loss: 1.5512 - accuracy: 0.2976 - val_loss: 1.5665 - val_accuracy: 0.2939\n",
      "Epoch 6/8\n",
      "9/9 [==============================] - 30s 3s/step - loss: 1.5451 - accuracy: 0.2976 - val_loss: 1.5536 - val_accuracy: 0.2939\n",
      "Epoch 7/8\n",
      "9/9 [==============================] - 31s 3s/step - loss: 1.5320 - accuracy: 0.2870 - val_loss: 1.5357 - val_accuracy: 0.2939\n",
      "Epoch 8/8\n",
      "9/9 [==============================] - 31s 3s/step - loss: 1.5167 - accuracy: 0.2874 - val_loss: 1.5154 - val_accuracy: 0.2939\n"
     ]
    }
   ],
   "source": [
    "# train the model\n",
    "hist = model.fit(x_train, y_train_one_hot,\n",
    "                 batch_size = 256,\n",
    "                 epochs = 8,\n",
    "                 validation_split = 0.2)"
   ]
  },
  {
   "cell_type": "code",
   "execution_count": 166,
   "metadata": {},
   "outputs": [
    {
     "name": "stdout",
     "output_type": "stream",
     "text": [
      "8/8 [==============================] - 1s 113ms/step - loss: 1.1984 - accuracy: 0.8130\n"
     ]
    },
    {
     "data": {
      "text/plain": [
       "0.8130081295967102"
      ]
     },
     "execution_count": 166,
     "metadata": {},
     "output_type": "execute_result"
    }
   ],
   "source": [
    "# evaluate the model using the test data set\n",
    "model.evaluate(x_test, y_test_one_hot)[1]"
   ]
  },
  {
   "cell_type": "code",
   "execution_count": 167,
   "metadata": {},
   "outputs": [
    {
     "data": {
      "image/png": "[encoded data removed]",
      "text/plain": [
       "<Figure size 432x288 with 1 Axes>"
      ]
     },
     "metadata": {
      "needs_background": "light"
     },
     "output_type": "display_data"
    }
   ],
   "source": [
    "# visualize the models accuracy\n",
    "plt.plot(hist.history['accuracy'])\n",
    "plt.plot(hist.history['val_accuracy'])\n",
    "plt.title('Model accuracy')\n",
    "plt.ylabel('Accuracy')\n",
    "plt.xlabel('Epoch')\n",
    "plt.legend(['train', 'Val'], loc='upper left')\n",
    "plt.show()"
   ]
  },
  {
   "cell_type": "code",
   "execution_count": 168,
   "metadata": {},
   "outputs": [
    {
     "data": {
      "image/png": "[encoded data removed]",
      "text/plain": [
       "<Figure size 432x288 with 1 Axes>"
      ]
     },
     "metadata": {
      "needs_background": "light"
     },
     "output_type": "display_data"
    }
   ],
   "source": [
    "# visualize the models loss\n",
    "plt.plot(hist.history['loss'])\n",
    "plt.plot(hist.history['val_loss'])\n",
    "plt.title('Model loss')\n",
    "plt.ylabel('loss')\n",
    "plt.xlabel('Epoch')\n",
    "plt.legend(['train', 'Val'], loc='upper right')\n",
    "plt.show()"
   ]
  },
  {
   "cell_type": "code",
   "execution_count": 169,
   "metadata": {},
   "outputs": [],
   "source": [
    "# use joblib to export model\n",
    "\n",
    "model.save('mlmodel(81).h5')"
   ]
  },
  {
   "cell_type": "code",
   "execution_count": 152,
   "metadata": {},
   "outputs": [],
   "source": [
    "# import joblib\n",
    "\n",
    "# joblib.dump(model,'mlmodel_test.h5')"
   ]
  },
  {
   "cell_type": "code",
   "execution_count": null,
   "metadata": {},
   "outputs": [],
   "source": []
  }
 ],
 "metadata": {
  "kernelspec": {
   "display_name": "Python 3",
   "language": "python",
   "name": "python3"
  },
  "language_info": {
   "codemirror_mode": {
    "name": "ipython",
    "version": 3
   },
   "file_extension": ".py",
   "mimetype": "text/x-python",
   "name": "python",
   "nbconvert_exporter": "python",
   "pygments_lexer": "ipython3",
   "version": "3.8.3"
  }
 },
 "nbformat": 4,
 "nbformat_minor": 4
}
